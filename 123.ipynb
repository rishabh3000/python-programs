{
 "cells": [
  {
   "cell_type": "code",
   "execution_count": 1,
   "metadata": {},
   "outputs": [
    {
     "name": "stdout",
     "output_type": "stream",
     "text": [
      "enter the first number3\n",
      "enter the second number6\n",
      "the average value of a and b 4.5\n"
     ]
    }
   ],
   "source": [
    "a=int(input('enter the first number'))\n",
    "b=int(input('enter the second number'))\n",
    "print('the average value of a and b',(a+b)/2)"
   ]
  },
  {
   "cell_type": "code",
   "execution_count": 4,
   "metadata": {},
   "outputs": [
    {
     "name": "stdout",
     "output_type": "stream",
     "text": [
      "enter the number:6\n",
      "square of the number: 36\n"
     ]
    }
   ],
   "source": [
    "a=int(input('enter the number:'))\n",
    "print('square of the number:',a*a)"
   ]
  },
  {
   "cell_type": "code",
   "execution_count": 6,
   "metadata": {},
   "outputs": [
    {
     "name": "stdout",
     "output_type": "stream",
     "text": [
      "[1, 2, 38, 50]\n",
      "[1, 'rishabh', 38, 50]\n",
      "[1, 'rishu', 6.9]\n"
     ]
    }
   ],
   "source": [
    "a=[1,2,38,50]\n",
    "print(a)\n",
    "a[1]='rishabh'\n",
    "print(a)\n",
    "a=[1,'rishu',6.9]\n",
    "print(a)"
   ]
  },
  {
   "cell_type": "code",
   "execution_count": 9,
   "metadata": {},
   "outputs": [
    {
     "name": "stdout",
     "output_type": "stream",
     "text": [
      "[4, 7, 8, 19, 48, 86]\n",
      "[86, 48, 19, 8, 7, 4]\n",
      "[86, 48, 19, 8, 7, 4, 20]\n",
      "[86, 48, 19, 50, 8, 7, 4, 20]\n",
      "[86, 48, 50, 8, 7, 4, 20]\n",
      "[86, 48, 8, 7, 4, 20]\n"
     ]
    }
   ],
   "source": [
    "l1=[8,4,7,19,48,86]\n",
    "l1.sort()\n",
    "print(l1)\n",
    "l1.reverse()\n",
    "print(l1)\n",
    "l1.append(20)\n",
    "print(l1)\n",
    "l1.insert(3,50)\n",
    "print(l1)\n",
    "l1.pop(2)\n",
    "print(l1)\n",
    "l1.remove(50)\n",
    "print(l1)"
   ]
  },
  {
   "cell_type": "code",
   "execution_count": 13,
   "metadata": {},
   "outputs": [
    {
     "name": "stdout",
     "output_type": "stream",
     "text": [
      "4\n",
      "4\n",
      "1\n",
      "25\n"
     ]
    }
   ],
   "source": [
    "#creating tuppel using ()\n",
    "t=(2,2,2,3,3,3,5,5,5,7,7,71,78,64,3,5,7,78,2,57,890,3,6,79,4,68,7,5,4)\n",
    "print(t.count(7))\n",
    "print(t.count(2))\n",
    "print(t.count(6))\n",
    "print(t.index(68))"
   ]
  },
  {
   "cell_type": "code",
   "execution_count": 14,
   "metadata": {},
   "outputs": [
    {
     "name": "stdout",
     "output_type": "stream",
     "text": [
      "Enter the fruit number 1:Apple\n",
      "Enter the fruit number 2:Mango\n",
      "Enter the fruit number 3:Grapesh\n",
      "Enter the fruit number 4:Gauva\n",
      "Enter the fruit number 5:Pineapple\n",
      "['Apple', 'Mango', 'Grapesh', 'Gauva', 'Pineapple']\n"
     ]
    }
   ],
   "source": [
    "f1=input('Enter the fruit number 1:')\n",
    "f2=input('Enter the fruit number 2:')\n",
    "f3=input('Enter the fruit number 3:')\n",
    "f4=input('Enter the fruit number 4:')\n",
    "f5=input('Enter the fruit number 5:')\n",
    "myFruitlist=[f1,f2,f3,f4,f5]\n",
    "print(myFruitlist)"
   ]
  },
  {
   "cell_type": "code",
   "execution_count": 17,
   "metadata": {},
   "outputs": [
    {
     "name": "stdout",
     "output_type": "stream",
     "text": [
      "Enter the student number 1:79\n",
      "Enter the student number 2:78\n",
      "Enter the student number 3:75\n",
      "Enter the student number 4:83\n",
      "Enter the student number 5:88\n",
      "[75, 78, 79, 83, 88]\n"
     ]
    }
   ],
   "source": [
    "s1=int(input('Enter the student number 1:'))\n",
    "s2=int(input('Enter the student number 2:'))\n",
    "s3=int(input('Enter the student number 3:'))\n",
    "s4=int(input('Enter the student number 4:'))\n",
    "s5=int(input('Enter the student number 5:'))\n",
    "mylist=[s1,s2,s3,s4,s5]\n",
    "mylist.sort()\n",
    "print(mylist)"
   ]
  },
  {
   "cell_type": "code",
   "execution_count": 2,
   "metadata": {},
   "outputs": [
    {
     "name": "stdout",
     "output_type": "stream",
     "text": [
      "142\n"
     ]
    }
   ],
   "source": [
    "a=[1,2,3,4,5,7,8,9,5,3,1,4,6,8,5,3,68]\n",
    "print(sum(a))"
   ]
  },
  {
   "cell_type": "code",
   "execution_count": 26,
   "metadata": {},
   "outputs": [
    {
     "name": "stdout",
     "output_type": "stream",
     "text": [
      "{'smart': 'Rishabh kumar', 'Player': 'any thing', 'marks': [35, 45], 'cute': {'Rishabh': 'as Always'}}\n",
      "[35, 45]\n",
      "Rishabh kumar\n",
      "as Always\n",
      "dict_items([('smart', 'Rishabh kumar'), ('Player', 'any thing'), ('marks', [35, 45]), ('cute', {'Rishabh': 'as Always'})])\n",
      "dict_values(['Rishabh kumar', 'any thing', [35, 45], {'Rishabh': 'as Always'}])\n",
      "{'smart': 'Rishabh kumar', 'Player': 'of heart', 'marks': [35, 45], 'cute': {'Rishabh': 'as Always'}, 'love': 'Breakup', 'warning': 'neverlove'}\n"
     ]
    }
   ],
   "source": [
    "myDict ={\n",
    "    'smart': 'Rishabh kumar',\n",
    "    'Player': 'any thing',\n",
    "    'marks': [1,2,3],\n",
    "    \n",
    "    'cute':{'Rishabh':'as Always'}\n",
    "}\n",
    "myDict['marks']=[35,45]\n",
    "print(myDict)\n",
    "print(myDict['marks'])\n",
    "print(myDict['smart'])\n",
    "print(myDict['cute']['Rishabh'])\n",
    "print(myDict.items())\n",
    "print(myDict.values())\n",
    "updateDict = {\n",
    "    'love': 'Breakup',\n",
    "    'warning': 'neverlove',\n",
    "    'Player': 'of heart'\n",
    "}\n",
    "myDict.update(updateDict)\n",
    "print(myDict)"
   ]
  },
  {
   "cell_type": "code",
   "execution_count": 1,
   "metadata": {},
   "outputs": [
    {
     "name": "stdout",
     "output_type": "stream",
     "text": [
      "<class 'set'>\n",
      "{1, 2, 3, 4, 5, 6}\n"
     ]
    }
   ],
   "source": [
    "a= {1,2,1,2,1,2,3,4,5,6}\n",
    "print(type(a))\n",
    "print(a)"
   ]
  },
  {
   "cell_type": "code",
   "execution_count": 11,
   "metadata": {},
   "outputs": [
    {
     "name": "stdout",
     "output_type": "stream",
     "text": [
      "<class 'dict'>\n",
      "{}\n",
      "<class 'set'>\n",
      "{4, 5, 7}\n",
      "3\n",
      "{4, 7}\n"
     ]
    }
   ],
   "source": [
    "a={}\n",
    "print(type(a))\n",
    "print(a)\n",
    "b=set()\n",
    "print(type(b))\n",
    "b.add(4)\n",
    "b.add(5)\n",
    "b.add(4)\n",
    "b.add(4)\n",
    "b.add(7)\n",
    "print(b)\n",
    "print(len(b))\n",
    "b.remove(5)\n",
    "print(b)"
   ]
  },
  {
   "cell_type": "code",
   "execution_count": 12,
   "metadata": {},
   "outputs": [
    {
     "name": "stdout",
     "output_type": "stream",
     "text": [
      "greater\n"
     ]
    }
   ],
   "source": [
    "a=22\n",
    "if(a>8):\n",
    "    print('greater')\n",
    "else:\n",
    "     print('lesser')"
   ]
  },
  {
   "cell_type": "code",
   "execution_count": 16,
   "metadata": {},
   "outputs": [
    {
     "name": "stdout",
     "output_type": "stream",
     "text": [
      "enter your age14\n",
      "no\n"
     ]
    }
   ],
   "source": [
    "a=int(input('enter your age'))\n",
    "if(a>=18):\n",
    "    print('yes')\n",
    "else:\n",
    "    print('no')\n",
    "    \n"
   ]
  },
  {
   "cell_type": "code",
   "execution_count": null,
   "metadata": {},
   "outputs": [],
   "source": []
  },
  {
   "cell_type": "code",
   "execution_count": 21,
   "metadata": {},
   "outputs": [
    {
     "name": "stdout",
     "output_type": "stream",
     "text": [
      "enter the year : 2021\n",
      "Not leap year\n"
     ]
    }
   ],
   "source": [
    "#Wap to find given year is leap or not\n",
    "year=int(input('enter the year : '))\n",
    "if(year%4==0):\n",
    "    print('leap year')\n",
    "else:\n",
    "    print('Not leap year')\n",
    "\n",
    "\n",
    "\n"
   ]
  },
  {
   "cell_type": "code",
   "execution_count": 23,
   "metadata": {},
   "outputs": [
    {
     "name": "stdout",
     "output_type": "stream",
     "text": [
      "Enter the salary: 100000\n",
      "enter the gender male or female: male\n",
      "bonus=  50000.0\n"
     ]
    }
   ],
   "source": [
    "#wap to find bonus salary\n",
    "Salary=int(input('Enter the salary: '))\n",
    "Gender=input('enter the gender male or female: ')\n",
    "if Gender==('male'):\n",
    "    print('bonus= ',float(.5*Salary))\n",
    "elif Gender==('female'):\n",
    "    print('bonus= ',float(.3*salary))"
   ]
  },
  {
   "cell_type": "code",
   "execution_count": 8,
   "metadata": {},
   "outputs": [
    {
     "name": "stdout",
     "output_type": "stream",
     "text": [
      "Enter a string: rishabh KUMAR\n",
      "RISHABH kumar\n"
     ]
    }
   ],
   "source": [
    "#Wap for checking for lowercase and uppercase and vice vesra\n",
    "s=input('Enter a string: ')\n",
    "str=''\n",
    "for i in range (len(s)):\n",
    "    if s[i].isupper():\n",
    "        str+=s[i].lower()\n",
    "    elif s[i].islower():\n",
    "        str+=s[i].upper()\n",
    "    else:\n",
    "        str+=s[i]\n",
    "print(str)\n",
    "        \n",
    "        "
   ]
  },
  {
   "cell_type": "code",
   "execution_count": 2,
   "metadata": {},
   "outputs": [
    {
     "name": "stdout",
     "output_type": "stream",
     "text": [
      "enter your age: 61\n",
      "you cannot work with us\n"
     ]
    }
   ],
   "source": [
    "age=int(input('enter your age: '))\n",
    "if(age>30 and age<60):\n",
    "    ptint('you can work with us')\n",
    "else:\n",
    "    print('you cannot work with us')"
   ]
  },
  {
   "cell_type": "code",
   "execution_count": 1,
   "metadata": {},
   "outputs": [
    {
     "name": "stdout",
     "output_type": "stream",
     "text": [
      "enter the number1: 90\n",
      "enter the number2: 999\n",
      "enter the number3: 999\n",
      "enter the number4: 9999\n"
     ]
    }
   ],
   "source": [
    "num1=int(input('enter the number1: '))\n",
    "num2=int(input('enter the number2: '))\n",
    "num3=int(input('enter the number3: '))\n",
    "num4=int(input('enter the number4: '))\n",
    "if(num1>num4):\n",
    "    f1=num1\n",
    "else:\n",
    "    f1=num2\n",
    "if(num3>num4):\n",
    "    f2=num3\n",
    "else:\n",
    "    f2=num4\n",
    "if(f1>f2):\n",
    "    print(str(f1) + ' is greatest')\n",
    "else:\n",
    "    (str(f2) + 'is greatest')"
   ]
  },
  {
   "cell_type": "code",
   "execution_count": 2,
   "metadata": {},
   "outputs": [
    {
     "name": "stdout",
     "output_type": "stream",
     "text": [
      "enter the year : 3030\n",
      "Not leap year\n"
     ]
    }
   ],
   "source": [
    "#Wap to find given year is leap or not\n",
    "year=int(input('enter the year : '))\n",
    "if(year%4==0):\n",
    "    print('leap year')\n",
    "else:\n",
    "    print('Not leap year')\n",
    "\n",
    "\n",
    "\n"
   ]
  },
  {
   "cell_type": "code",
   "execution_count": 9,
   "metadata": {},
   "outputs": [
    {
     "name": "stdout",
     "output_type": "stream",
     "text": [
      "enter the first subject marks/n56\n",
      "enter the second subject marks/n67\n",
      "enter the third subject marks/n68\n",
      "cong! yor are pass \n"
     ]
    }
   ],
   "source": [
    "sub1=int(input('enter the first subject marks/n'))\n",
    "sub2=int(input('enter the second subject marks/n'))\n",
    "sub3=int(input('enter the third subject marks/n'))\n",
    "if(sub1<33 or sub2<33 or sub3<33):\n",
    "    print('your marks is less than 33 you are fail')\n",
    "if(sub1+sub2+sub3)/3<40:\n",
    "    print('you are fail due to less percentage ')\n",
    "else:\n",
    "    print('cong! yor are pass ')"
   ]
  },
  {
   "cell_type": "code",
   "execution_count": 4,
   "metadata": {},
   "outputs": [
    {
     "name": "stdout",
     "output_type": "stream",
     "text": [
      "enter the text/n78\n",
      "this text is not spam\n"
     ]
    }
   ],
   "source": [
    "text=input('enter the text/n')\n",
    "if('hello bro' in text):\n",
    "    spam = True\n",
    "elif('how are you' in text):\n",
    "    spam = True\n",
    "elif('macho man' in text):\n",
    "    spam = True\n",
    "else:\n",
    "    spam = False\n",
    "    \n",
    "if(spam):\n",
    "    print('this text is spam')\n",
    "else:\n",
    "    print('this text is not spam')\n",
    "    \n",
    "    "
   ]
  },
  {
   "cell_type": "code",
   "execution_count": 6,
   "metadata": {},
   "outputs": [
    {
     "name": "stdout",
     "output_type": "stream",
     "text": [
      "enter the name check/nkuti\n",
      "your name is not present in list\n"
     ]
    }
   ],
   "source": [
    "names = ['rishu', 'akriti', 'harsh', 'mohit']\n",
    "name = input('enter the name check/n')\n",
    " \n",
    "if name in names:\n",
    "    print('your name is present in list')\n",
    "else:\n",
    "    print('your name is not present in list')\n",
    "    "
   ]
  },
  {
   "cell_type": "code",
   "execution_count": 9,
   "metadata": {},
   "outputs": [
    {
     "name": "stdout",
     "output_type": "stream",
     "text": [
      "enter the marks78\n",
      "your grade is B\n"
     ]
    }
   ],
   "source": [
    "marks= int(input('enter the marks'))\n",
    " \n",
    "if marks>=90:\n",
    "    garde='Ex'\n",
    "elif marks>=80:\n",
    "    grade='A'\n",
    "elif marks>=70:\n",
    "    grade='B'\n",
    "elif marks>=60:\n",
    "    grade='C'\n",
    "else:\n",
    "    grade='fail'\n",
    "print('your grade is '+ grade)\n"
   ]
  },
  {
   "cell_type": "code",
   "execution_count": 2,
   "metadata": {
    "scrolled": false
   },
   "outputs": [
    {
     "name": "stdout",
     "output_type": "stream",
     "text": [
      "1\n",
      "2\n",
      "3\n",
      "4\n",
      "5\n",
      "6\n",
      "7\n",
      "8\n",
      "9\n",
      "10\n",
      "11\n",
      "12\n",
      "13\n",
      "14\n",
      "15\n",
      "16\n",
      "17\n",
      "18\n",
      "19\n",
      "20\n",
      "21\n",
      "22\n",
      "23\n",
      "24\n",
      "25\n",
      "26\n",
      "27\n",
      "28\n",
      "29\n",
      "30\n",
      "31\n",
      "32\n",
      "33\n",
      "34\n",
      "35\n",
      "36\n",
      "37\n",
      "38\n",
      "39\n",
      "40\n",
      "41\n",
      "42\n",
      "43\n",
      "44\n",
      "45\n",
      "46\n",
      "47\n",
      "48\n",
      "49\n",
      "50\n",
      "done\n"
     ]
    }
   ],
   "source": [
    "i=1\n",
    "while i<51:\n",
    "    print(i)\n",
    "    i=i+1\n",
    "print('done')"
   ]
  },
  {
   "cell_type": "code",
   "execution_count": 4,
   "metadata": {},
   "outputs": [
    {
     "name": "stdout",
     "output_type": "stream",
     "text": [
      "rishabh\n",
      "rishabh\n",
      "rishabh\n",
      "rishabh\n",
      "rishabh\n"
     ]
    }
   ],
   "source": [
    "i=0\n",
    "while i<5:\n",
    "    print('rishabh')\n",
    "    i=i+1"
   ]
  },
  {
   "cell_type": "code",
   "execution_count": 7,
   "metadata": {},
   "outputs": [
    {
     "name": "stdout",
     "output_type": "stream",
     "text": [
      "mango\n",
      "grapes\n",
      "banana\n",
      "apple\n"
     ]
    }
   ],
   "source": [
    "a=['mango','grapes','banana','apple']\n",
    "i=0\n",
    "while i<len(a):\n",
    "    print(a[i])\n",
    "    i=i+1"
   ]
  },
  {
   "cell_type": "code",
   "execution_count": 8,
   "metadata": {},
   "outputs": [
    {
     "name": "stdout",
     "output_type": "stream",
     "text": [
      "mango\n",
      "grapes\n",
      "banana\n",
      "apple\n"
     ]
    }
   ],
   "source": [
    "a=['mango','grapes','banana','apple']\n",
    "for item in a:\n",
    "    print(item)"
   ]
  },
  {
   "cell_type": "code",
   "execution_count": 1,
   "metadata": {},
   "outputs": [
    {
     "name": "stdout",
     "output_type": "stream",
     "text": [
      "2\n",
      "4\n",
      "6\n",
      "8\n"
     ]
    }
   ],
   "source": [
    "for i in range(2,10,2):\n",
    "    print(i)\n",
    "    "
   ]
  },
  {
   "cell_type": "code",
   "execution_count": 2,
   "metadata": {},
   "outputs": [
    {
     "name": "stdout",
     "output_type": "stream",
     "text": [
      "0\n",
      "1\n",
      "2\n",
      "3\n",
      "4\n",
      "5\n",
      "6\n",
      "7\n",
      "8\n",
      "9\n",
      "the end\n"
     ]
    }
   ],
   "source": [
    "for i in range(10):\n",
    "    print(i)\n",
    "else:\n",
    "    print('the end')"
   ]
  },
  {
   "cell_type": "code",
   "execution_count": 7,
   "metadata": {},
   "outputs": [
    {
     "name": "stdout",
     "output_type": "stream",
     "text": [
      "0\n",
      "1\n",
      "2\n",
      "3\n",
      "4\n",
      "5\n"
     ]
    }
   ],
   "source": [
    "for i in range(10):\n",
    "    print(i)\n",
    "    if i==5:\n",
    "        break\n",
    "else:\n",
    "    print('the end') #this will work only on succesfull terminination"
   ]
  },
  {
   "cell_type": "code",
   "execution_count": 12,
   "metadata": {},
   "outputs": [
    {
     "name": "stdout",
     "output_type": "stream",
     "text": [
      "0\n",
      "1\n",
      "2\n",
      "3\n",
      "4\n",
      "6\n",
      "7\n",
      "8\n",
      "9\n",
      "the end\n"
     ]
    }
   ],
   "source": [
    "for i in range(10):\n",
    "    \n",
    "    if i==5:\n",
    "        continue\n",
    "    print(i)\n",
    "else:\n",
    "    print('the end')"
   ]
  },
  {
   "cell_type": "code",
   "execution_count": 1,
   "metadata": {},
   "outputs": [
    {
     "name": "stdout",
     "output_type": "stream",
     "text": [
      "enter the number54\n",
      "54X1=54\n",
      "54X2=108\n",
      "54X3=162\n",
      "54X4=216\n",
      "54X5=270\n",
      "54X6=324\n",
      "54X7=378\n",
      "54X8=432\n",
      "54X9=486\n",
      "54X10=540\n"
     ]
    }
   ],
   "source": [
    "num=int(input('enter the number'))\n",
    "for i in range(1,11):\n",
    "    #print(str(num ) + 'X' + str(i) + '=' + str(i*num))\n",
    "    print(f'{num}X{i}={num*i}')"
   ]
  },
  {
   "cell_type": "code",
   "execution_count": 4,
   "metadata": {},
   "outputs": [
    {
     "name": "stdout",
     "output_type": "stream",
     "text": [
      "Hello rish\n",
      "Hello rk\n",
      "Hello rohit\n"
     ]
    }
   ],
   "source": [
    "l1=['rish','rk','rohit','sk','shruti']\n",
    "for name in l1:\n",
    "    if name.startswith('r'):\n",
    "        print('Hello ' + name)"
   ]
  },
  {
   "cell_type": "code",
   "execution_count": 12,
   "metadata": {},
   "outputs": [
    {
     "name": "stdout",
     "output_type": "stream",
     "text": [
      "enter the number: 78\n",
      "no is not prime\n"
     ]
    }
   ],
   "source": [
    "num=int(input('enter the number: '))\n",
    "prime = True\n",
    "for i in range(2,num):\n",
    "    if(num%i ==0):\n",
    "        prime = False\n",
    "        break\n",
    "if prime:\n",
    "    print('no is prime')\n",
    "else:\n",
    "    print('no is not prime')"
   ]
  },
  {
   "cell_type": "code",
   "execution_count": 19,
   "metadata": {},
   "outputs": [
    {
     "name": "stdout",
     "output_type": "stream",
     "text": [
      "enter the number: 10\n",
      "the factorial of the 10 is 3628800\n"
     ]
    }
   ],
   "source": [
    "num=int(input('enter the number: '))\n",
    "factorial=1\n",
    "for i in range(1,num+1):\n",
    "    factorial = factorial * i\n",
    "print(f'the factorial of the {num} is {factorial}')"
   ]
  },
  {
   "cell_type": "code",
   "execution_count": 3,
   "metadata": {},
   "outputs": [
    {
     "name": "stdout",
     "output_type": "stream",
     "text": [
      "*\n",
      "**\n",
      "***\n",
      "****\n"
     ]
    }
   ],
   "source": [
    "n=4\n",
    "for i in range(4):\n",
    "    print(\"*\" *(i+1))"
   ]
  },
  {
   "cell_type": "code",
   "execution_count": 4,
   "metadata": {},
   "outputs": [],
   "source": [
    "#for i in range(3):\n",
    "    #for j1 in range\n",
    "    \n",
    "    "
   ]
  },
  {
   "cell_type": "code",
   "execution_count": 2,
   "metadata": {},
   "outputs": [
    {
     "name": "stdout",
     "output_type": "stream",
     "text": [
      "good day,rishu\n",
      "7853\n"
     ]
    }
   ],
   "source": [
    "def greet(name):\n",
    "    print(\"good day,\"+ name)\n",
    "greet(\"rishu\")  \n",
    "\n",
    "def mysum(num1,num2):\n",
    "    return num1 + num2\n",
    "s = mysum(76,7777)\n",
    "print(s)"
   ]
  },
  {
   "cell_type": "code",
   "execution_count": 16,
   "metadata": {},
   "outputs": [
    {
     "name": "stdout",
     "output_type": "stream",
     "text": [
      "miss u 2 bahoot sara\n",
      "miss u 2 bahoot sara\n",
      "miss u 2 bahoot sara\n",
      "miss u 2 bahoot sara\n",
      "miss u 2 bahoot sara\n",
      "miss u 2 bahoot sara\n",
      "miss u 2 bahoot sara\n",
      "miss u 2 bahoot sara\n",
      "miss u 2 bahoot sara\n",
      "miss u 2 bahoot sara\n",
      "miss u 2 bahoot sara\n",
      "miss u 2 bahoot sara\n",
      "miss u 2 bahoot sara\n",
      "miss u 2 bahoot sara\n",
      "miss u 2 bahoot sara\n",
      "miss u 2 bahoot sara\n",
      "miss u 2 bahoot sara\n",
      "miss u 2 bahoot sara\n",
      "miss u 2 bahoot sara\n",
      "miss u 2 bahoot sara\n",
      "miss u 2 bahoot sara\n",
      "miss u 2 bahoot sara\n",
      "miss u 2 bahoot sara\n",
      "miss u 2 bahoot sara\n",
      "miss u 2 bahoot sara\n",
      "miss u 2 bahoot sara\n",
      "miss u 2 bahoot sara\n",
      "miss u 2 bahoot sara\n",
      "miss u 2 bahoot sara\n"
     ]
    }
   ],
   "source": [
    "for i in range(1,30):\n",
    "    print('miss u 2 bahoot sara')"
   ]
  },
  {
   "cell_type": "code",
   "execution_count": 1,
   "metadata": {},
   "outputs": [
    {
     "name": "stdout",
     "output_type": "stream",
     "text": [
      "80.25 85.75\n"
     ]
    }
   ],
   "source": [
    "def percent(marks):\n",
    "    p=((marks[0]+ marks[1] + marks[2] + marks[3])/400)*100\n",
    "    return p\n",
    "marks1 =[68 ,78 ,84 ,91,]\n",
    "percenatage1 =percent(marks1)\n",
    "marks2 =[82, 78, 91 ,92]\n",
    "percentage2=percent(marks2)\n",
    "print(percenatage1,percentage2)"
   ]
  },
  {
   "cell_type": "code",
   "execution_count": 4,
   "metadata": {},
   "outputs": [
    {
     "name": "stdout",
     "output_type": "stream",
     "text": [
      "good daystranger\n"
     ]
    }
   ],
   "source": [
    "def greet(name= 'stranger'):\n",
    "    print('good day'+ name)\n",
    "greet()"
   ]
  },
  {
   "cell_type": "code",
   "execution_count": 11,
   "metadata": {},
   "outputs": [
    {
     "name": "stdout",
     "output_type": "stream",
     "text": [
      "the maximum value is :7\n"
     ]
    }
   ],
   "source": [
    "def maximum(num1,num2,num3):\n",
    "    if(num1>num2):\n",
    "        if(num1>num3):\n",
    "            return num1\n",
    "        else:\n",
    "            return num3\n",
    "    else:\n",
    "        if(num2>num3):\n",
    "            return num2\n",
    "        else:\n",
    "            return num3\n",
    "m= maximum(1,3,7)\n",
    "print('the maximum value is :'+ str(m))"
   ]
  },
  {
   "cell_type": "code",
   "execution_count": 14,
   "metadata": {},
   "outputs": [
    {
     "name": "stdout",
     "output_type": "stream",
     "text": [
      "eneter the degree in cel878\n",
      "farh temp is : 1612.4\n"
     ]
    }
   ],
   "source": [
    "def farh(cel):\n",
    "    return (cel*(9/5)) +32\n",
    "c=int(input('eneter the degree in cel'))\n",
    "f = farh(c)\n",
    "print('farh temp is : ' + str(f))"
   ]
  },
  {
   "cell_type": "code",
   "execution_count": 18,
   "metadata": {},
   "outputs": [
    {
     "name": "stdout",
     "output_type": "stream",
     "text": [
      "143\n",
      "143\n"
     ]
    }
   ],
   "source": [
    "for i in range(1,3):\n",
    "    print(143)"
   ]
  },
  {
   "cell_type": "code",
   "execution_count": 1,
   "metadata": {},
   "outputs": [
    {
     "name": "stdout",
     "output_type": "stream",
     "text": [
      "hello rishu how are you "
     ]
    }
   ],
   "source": [
    "print('hello', end=' ')\n",
    "print('rishu', end=' ')\n",
    "print('how', end=' ')\n",
    "print('are you', end=' ')\n"
   ]
  },
  {
   "cell_type": "code",
   "execution_count": 7,
   "metadata": {},
   "outputs": [
    {
     "name": "stdout",
     "output_type": "stream",
     "text": [
      "enter the length in cm: 6\n",
      "cm length is : 15.24\n"
     ]
    }
   ],
   "source": [
    "def inche(cm):\n",
    "    return ((2.54)*cm)\n",
    "c=int(input('enter the length in cm: '))\n",
    "i= inche(c)\n",
    "print('cm length is : ' +str(i))"
   ]
  },
  {
   "cell_type": "code",
   "execution_count": 3,
   "metadata": {},
   "outputs": [
    {
     "name": "stdout",
     "output_type": "stream",
     "text": [
      "eneter the degree in farh32\n",
      "cel temp is : 25.6\n"
     ]
    }
   ],
   "source": [
    "def cel(farh):\n",
    "    return (farh*(9/5)) -32\n",
    "f=int(input('eneter the degree in farh'))\n",
    "c = cel(f)\n",
    "print('cel temp is : ' + str(c))\n"
   ]
  },
  {
   "cell_type": "code",
   "execution_count": 5,
   "metadata": {},
   "outputs": [
    {
     "name": "stdout",
     "output_type": "stream",
     "text": [
      "eneter the degree in farh: 32\n",
      "cel temp is : 0.0\n"
     ]
    }
   ],
   "source": [
    "def cel(farh):\n",
    "    return (farh-32)*(5/9)\n",
    "f=int(input('eneter the degree in farh: '))\n",
    "c = cel(f)\n",
    "print('cel temp is : ' + str(c))"
   ]
  },
  {
   "cell_type": "code",
   "execution_count": 6,
   "metadata": {},
   "outputs": [
    {
     "name": "stdout",
     "output_type": "stream",
     "text": [
      "Enter the radius of the circle: 45\n",
      "6358.50\n"
     ]
    }
   ],
   "source": [
    "PI = 3.14\n",
    "r = float(input(\"Enter the radius of the circle: \"))\n",
    "area = PI * r * r\n",
    "print(\"%.2f\" %area)\n"
   ]
  },
  {
   "cell_type": "code",
   "execution_count": 7,
   "metadata": {},
   "outputs": [
    {
     "ename": "IndentationError",
     "evalue": "unexpected indent (<ipython-input-7-3b8fb47f7db6>, line 3)",
     "output_type": "error",
     "traceback": [
      "\u001b[1;36m  File \u001b[1;32m\"<ipython-input-7-3b8fb47f7db6>\"\u001b[1;36m, line \u001b[1;32m3\u001b[0m\n\u001b[1;33m    print(a+b)\u001b[0m\n\u001b[1;37m    ^\u001b[0m\n\u001b[1;31mIndentationError\u001b[0m\u001b[1;31m:\u001b[0m unexpected indent\n"
     ]
    }
   ],
   "source": [
    "a = \"Su raj\"\n",
    "b = \"lakarbagha\"\n",
    " print(a+b) "
   ]
  },
  {
   "cell_type": "code",
   "execution_count": 10,
   "metadata": {},
   "outputs": [
    {
     "ename": "NameError",
     "evalue": "name 'Print' is not defined",
     "output_type": "error",
     "traceback": [
      "\u001b[1;31m---------------------------------------------------------------------------\u001b[0m",
      "\u001b[1;31mNameError\u001b[0m                                 Traceback (most recent call last)",
      "\u001b[1;32m<ipython-input-10-c0a162e92128>\u001b[0m in \u001b[0;36m<module>\u001b[1;34m\u001b[0m\n\u001b[0;32m      1\u001b[0m \u001b[0mWord\u001b[0m\u001b[1;33m=\u001b[0m \u001b[1;34m'Hello Python'\u001b[0m\u001b[1;33m\u001b[0m\u001b[1;33m\u001b[0m\u001b[0m\n\u001b[1;32m----> 2\u001b[1;33m \u001b[0mPrint\u001b[0m\u001b[1;33m(\u001b[0m\u001b[1;34m'Word'\u001b[0m\u001b[1;33m)\u001b[0m\u001b[1;33m\u001b[0m\u001b[1;33m\u001b[0m\u001b[0m\n\u001b[0m",
      "\u001b[1;31mNameError\u001b[0m: name 'Print' is not defined"
     ]
    }
   ],
   "source": []
  },
  {
   "cell_type": "code",
   "execution_count": 11,
   "metadata": {},
   "outputs": [
    {
     "name": "stdout",
     "output_type": "stream",
     "text": [
      "Hello Python\n"
     ]
    }
   ],
   "source": [
    "a = 'Hello '\n",
    "b = 'Python'\n",
    "c = a + b\n",
    "print(c)"
   ]
  },
  {
   "cell_type": "code",
   "execution_count": 12,
   "metadata": {},
   "outputs": [
    {
     "name": "stdout",
     "output_type": "stream",
     "text": [
      "Hello Python\n"
     ]
    }
   ],
   "source": [
    "word = \"Hello Python\"\n",
    "\n",
    "if(word == \"Hello Python\"):\n",
    "    print(word)\n",
    "else:\n",
    "    print(\"This Is Not A OPerator\")"
   ]
  },
  {
   "cell_type": "code",
   "execution_count": 3,
   "metadata": {},
   "outputs": [
    {
     "ename": "ValueError",
     "evalue": "could not convert string to float: '5 degrees'",
     "output_type": "error",
     "traceback": [
      "\u001b[1;31m---------------------------------------------------------------------------\u001b[0m",
      "\u001b[1;31mValueError\u001b[0m                                Traceback (most recent call last)",
      "\u001b[1;32m<ipython-input-3-6e34e4ac9921>\u001b[0m in \u001b[0;36m<module>\u001b[1;34m\u001b[0m\n\u001b[0;32m      1\u001b[0m \u001b[0mtemp\u001b[0m \u001b[1;33m=\u001b[0m \u001b[1;34m\"5 degrees\"\u001b[0m\u001b[1;33m\u001b[0m\u001b[1;33m\u001b[0m\u001b[0m\n\u001b[0;32m      2\u001b[0m \u001b[0mcel\u001b[0m \u001b[1;33m=\u001b[0m \u001b[1;36m0\u001b[0m\u001b[1;33m\u001b[0m\u001b[1;33m\u001b[0m\u001b[0m\n\u001b[1;32m----> 3\u001b[1;33m \u001b[0mfahr\u001b[0m \u001b[1;33m=\u001b[0m \u001b[0mfloat\u001b[0m\u001b[1;33m(\u001b[0m\u001b[0mtemp\u001b[0m\u001b[1;33m)\u001b[0m\u001b[1;33m\u001b[0m\u001b[1;33m\u001b[0m\u001b[0m\n\u001b[0m\u001b[0;32m      4\u001b[0m \u001b[0mcel\u001b[0m \u001b[1;33m=\u001b[0m \u001b[1;33m(\u001b[0m\u001b[0mfahr\u001b[0m \u001b[1;33m-\u001b[0m \u001b[1;36m32.0\u001b[0m\u001b[1;33m)\u001b[0m \u001b[1;33m*\u001b[0m \u001b[1;36m5.0\u001b[0m \u001b[1;33m/\u001b[0m \u001b[1;36m9.0\u001b[0m\u001b[1;33m\u001b[0m\u001b[1;33m\u001b[0m\u001b[0m\n\u001b[0;32m      5\u001b[0m \u001b[0mprint\u001b[0m\u001b[1;33m(\u001b[0m\u001b[0mcel\u001b[0m\u001b[1;33m)\u001b[0m\u001b[1;33m\u001b[0m\u001b[1;33m\u001b[0m\u001b[0m\n",
      "\u001b[1;31mValueError\u001b[0m: could not convert string to float: '5 degrees'"
     ]
    }
   ],
   "source": [
    "temp = \"5 degrees\"\n",
    "cel = 0\n",
    "fahr = float(temp)\n",
    "cel = (fahr - 32.0) * 5.0 / 9.0\n",
    "print(cel)"
   ]
  },
  {
   "cell_type": "code",
   "execution_count": 4,
   "metadata": {},
   "outputs": [
    {
     "name": "stdout",
     "output_type": "stream",
     "text": [
      "ABC\n",
      "Zap\n",
      "ABC\n"
     ]
    }
   ],
   "source": [
    "def fred():\n",
    "    print(\"Zap\")\n",
    "def jane():\n",
    "    print(\"ABC\")\n",
    "\n",
    "jane()\n",
    "fred()\n",
    "jane()\n"
   ]
  },
  {
   "cell_type": "code",
   "execution_count": 5,
   "metadata": {},
   "outputs": [
    {
     "name": "stdout",
     "output_type": "stream",
     "text": [
      "0\n",
      "1\n",
      "2\n"
     ]
    }
   ],
   "source": [
    "n = 0\n",
    "while True:\n",
    "    if n == 3:\n",
    "        break\n",
    "    print(n)\n",
    "    n = n + 1\n"
   ]
  },
  {
   "cell_type": "code",
   "execution_count": 6,
   "metadata": {},
   "outputs": [
    {
     "name": "stdout",
     "output_type": "stream",
     "text": [
      "annie 42\n",
      "jan 100\n"
     ]
    }
   ],
   "source": [
    "counts = { 'chuck' : 1 , 'annie' : 42, 'jan': 100}\n",
    "for key in counts:\n",
    "    if counts[key] > 10:\n",
    "        print(key, counts[key])"
   ]
  },
  {
   "cell_type": "code",
   "execution_count": 2,
   "metadata": {},
   "outputs": [
    {
     "name": "stdout",
     "output_type": "stream",
     "text": [
      "pi =  3.141592653589793\n"
     ]
    }
   ],
   "source": [
    "from math import pi\n",
    "print('pi = ', pi)\n"
   ]
  },
  {
   "cell_type": "code",
   "execution_count": 6,
   "metadata": {},
   "outputs": [
    {
     "name": "stdout",
     "output_type": "stream",
     "text": [
      "9.0\n"
     ]
    }
   ],
   "source": [
    "from math import pi,sqrt\n",
    "print(sqrt(81)"
   ]
  },
  {
   "cell_type": "code",
   "execution_count": 4,
   "metadata": {},
   "outputs": [
    {
     "name": "stdout",
     "output_type": "stream",
     "text": [
      "9.0\n"
     ]
    }
   ],
   "source": [
    "from math import sqrt as square_root\n",
    "print(square_root(81))"
   ]
  },
  {
   "cell_type": "code",
   "execution_count": 8,
   "metadata": {},
   "outputs": [
    {
     "name": "stdout",
     "output_type": "stream",
     "text": [
      "['C:\\\\ProgramData\\\\Anaconda3\\\\lib\\\\site-packages\\\\ipykernel_launcher.py', '-f', 'C:\\\\Users\\\\RISHA\\\\AppData\\\\Roaming\\\\jupyter\\\\runtime\\\\kernel-774197a8-914b-458c-81c2-a6ba7bf5406f.json']\n"
     ]
    }
   ],
   "source": [
    "import sys\n",
    "print(sys.argv)"
   ]
  },
  {
   "cell_type": "code",
   "execution_count": 11,
   "metadata": {},
   "outputs": [
    {
     "ename": "SyntaxError",
     "evalue": "invalid syntax (<ipython-input-11-399214d37c3a>, line 1)",
     "output_type": "error",
     "traceback": [
      "\u001b[1;36m  File \u001b[1;32m\"<ipython-input-11-399214d37c3a>\"\u001b[1;36m, line \u001b[1;32m1\u001b[0m\n\u001b[1;33m    from importlib import reload math\u001b[0m\n\u001b[1;37m                                 ^\u001b[0m\n\u001b[1;31mSyntaxError\u001b[0m\u001b[1;31m:\u001b[0m invalid syntax\n"
     ]
    }
   ],
   "source": [
    "from importlib import reload math\n",
    "print(sqrt(81)"
   ]
  },
  {
   "cell_type": "code",
   "execution_count": 14,
   "metadata": {},
   "outputs": [
    {
     "ename": "SyntaxError",
     "evalue": "invalid syntax (<ipython-input-14-95bf6a517e23>, line 3)",
     "output_type": "error",
     "traceback": [
      "\u001b[1;36m  File \u001b[1;32m\"<ipython-input-14-95bf6a517e23>\"\u001b[1;36m, line \u001b[1;32m3\u001b[0m\n\u001b[1;33m    import importlib\u001b[0m\n\u001b[1;37m    ^\u001b[0m\n\u001b[1;31mSyntaxError\u001b[0m\u001b[1;31m:\u001b[0m invalid syntax\n"
     ]
    }
   ],
   "source": [
    "from math import pi,sqrt\n",
    "print(sqrt(81)\n",
    "import importlib\n",
    "importlib.reload(math)"
   ]
  },
  {
   "cell_type": "code",
   "execution_count": 32,
   "metadata": {},
   "outputs": [
    {
     "name": "stdout",
     "output_type": "stream",
     "text": [
      "localtime: (<built-in function asctime>, time.struct_time(tm_year=2021, tm_mon=3, tm_mday=5, tm_hour=11, tm_min=40, tm_sec=24, tm_wday=4, tm_yday=64, tm_isdst=0))\n"
     ]
    }
   ],
   "source": [
    "import time\n",
    "localtime=time.asctime,(time.localtime(time.time()))\n",
    "print('localtime:' ,localtime)"
   ]
  },
  {
   "cell_type": "code",
   "execution_count": 18,
   "metadata": {},
   "outputs": [
    {
     "name": "stdout",
     "output_type": "stream",
     "text": [
      "Local time: Thu Dec 27 21:19:29 2018\n"
     ]
    }
   ],
   "source": [
    "import time\n",
    "seconds = 1545925769.9618232\n",
    "local_time = time.ctime(seconds)\n",
    "print(\"Local time:\", local_time)\t"
   ]
  },
  {
   "cell_type": "code",
   "execution_count": 26,
   "metadata": {},
   "outputs": [
    {
     "name": "stdout",
     "output_type": "stream",
     "text": [
      "     March 2021\n",
      "Mo Tu We Th Fr Sa Su\n",
      " 1  2  3  4  5  6  7\n",
      " 8  9 10 11 12 13 14\n",
      "15 16 17 18 19 20 21\n",
      "22 23 24 25 26 27 28\n",
      "29 30 31\n",
      "\n"
     ]
    }
   ],
   "source": [
    "import calendar \n",
    "print(calendar.month(2021,3))"
   ]
  },
  {
   "cell_type": "code",
   "execution_count": 29,
   "metadata": {},
   "outputs": [
    {
     "name": "stdout",
     "output_type": "stream",
     "text": [
      "                                  2021\n",
      "\n",
      "      January                   February                   March\n",
      "Mo Tu We Th Fr Sa Su      Mo Tu We Th Fr Sa Su      Mo Tu We Th Fr Sa Su\n",
      "             1  2  3       1  2  3  4  5  6  7       1  2  3  4  5  6  7\n",
      " 4  5  6  7  8  9 10       8  9 10 11 12 13 14       8  9 10 11 12 13 14\n",
      "11 12 13 14 15 16 17      15 16 17 18 19 20 21      15 16 17 18 19 20 21\n",
      "18 19 20 21 22 23 24      22 23 24 25 26 27 28      22 23 24 25 26 27 28\n",
      "25 26 27 28 29 30 31                                29 30 31\n",
      "\n",
      "       April                      May                       June\n",
      "Mo Tu We Th Fr Sa Su      Mo Tu We Th Fr Sa Su      Mo Tu We Th Fr Sa Su\n",
      "          1  2  3  4                      1  2          1  2  3  4  5  6\n",
      " 5  6  7  8  9 10 11       3  4  5  6  7  8  9       7  8  9 10 11 12 13\n",
      "12 13 14 15 16 17 18      10 11 12 13 14 15 16      14 15 16 17 18 19 20\n",
      "19 20 21 22 23 24 25      17 18 19 20 21 22 23      21 22 23 24 25 26 27\n",
      "26 27 28 29 30            24 25 26 27 28 29 30      28 29 30\n",
      "                          31\n",
      "\n",
      "        July                     August                  September\n",
      "Mo Tu We Th Fr Sa Su      Mo Tu We Th Fr Sa Su      Mo Tu We Th Fr Sa Su\n",
      "          1  2  3  4                         1             1  2  3  4  5\n",
      " 5  6  7  8  9 10 11       2  3  4  5  6  7  8       6  7  8  9 10 11 12\n",
      "12 13 14 15 16 17 18       9 10 11 12 13 14 15      13 14 15 16 17 18 19\n",
      "19 20 21 22 23 24 25      16 17 18 19 20 21 22      20 21 22 23 24 25 26\n",
      "26 27 28 29 30 31         23 24 25 26 27 28 29      27 28 29 30\n",
      "                          30 31\n",
      "\n",
      "      October                   November                  December\n",
      "Mo Tu We Th Fr Sa Su      Mo Tu We Th Fr Sa Su      Mo Tu We Th Fr Sa Su\n",
      "             1  2  3       1  2  3  4  5  6  7             1  2  3  4  5\n",
      " 4  5  6  7  8  9 10       8  9 10 11 12 13 14       6  7  8  9 10 11 12\n",
      "11 12 13 14 15 16 17      15 16 17 18 19 20 21      13 14 15 16 17 18 19\n",
      "18 19 20 21 22 23 24      22 23 24 25 26 27 28      20 21 22 23 24 25 26\n",
      "25 26 27 28 29 30 31      29 30                     27 28 29 30 31\n",
      "\n"
     ]
    }
   ],
   "source": [
    "import calendar \n",
    "print(calendar.calendar(2021))"
   ]
  },
  {
   "cell_type": "code",
   "execution_count": 31,
   "metadata": {},
   "outputs": [
    {
     "name": "stdout",
     "output_type": "stream",
     "text": [
      "hellohellohello\n"
     ]
    }
   ],
   "source": [
    "str='hello'\n",
    "print(str*3)"
   ]
  },
  {
   "cell_type": "code",
   "execution_count": 34,
   "metadata": {},
   "outputs": [
    {
     "name": "stdout",
     "output_type": "stream",
     "text": [
      "82\n"
     ]
    }
   ],
   "source": [
    "ch='R'\n",
    "print(ord(ch))"
   ]
  },
  {
   "cell_type": "code",
   "execution_count": 36,
   "metadata": {},
   "outputs": [
    {
     "name": "stdout",
     "output_type": "stream",
     "text": [
      "65\n"
     ]
    }
   ],
   "source": [
    "ch='A'\n",
    "print(ord(ch))"
   ]
  },
  {
   "cell_type": "code",
   "execution_count": 37,
   "metadata": {},
   "outputs": [
    {
     "name": "stdout",
     "output_type": "stream",
     "text": [
      "A\n"
     ]
    }
   ],
   "source": [
    "print(chr(65))"
   ]
  },
  {
   "cell_type": "code",
   "execution_count": 39,
   "metadata": {},
   "outputs": [
    {
     "name": "stdout",
     "output_type": "stream",
     "text": [
      "is macho man\n"
     ]
    }
   ],
   "source": [
    "def remove_and_split(string,word):\n",
    "    newstr= string.replace(word,'')\n",
    "    return newstr.strip()\n",
    "this= ' rishu is macho man '\n",
    "n = remove_and_split(this,'rishu')\n",
    "print(n)"
   ]
  },
  {
   "cell_type": "code",
   "execution_count": null,
   "metadata": {},
   "outputs": [],
   "source": [
    "import random\n",
    "\n",
    "\n",
    "\n",
    "\n",
    "a = input('player 1 turn : snake(s) water(w) or gun(g)')"
   ]
  },
  {
   "cell_type": "code",
   "execution_count": null,
   "metadata": {},
   "outputs": [],
   "source": [
    "f = open('LiveDomainList.txt','r')\n",
    "data = f.read()\n",
    "print(data)\n",
    "f.close()\n",
    "    "
   ]
  },
  {
   "cell_type": "code",
   "execution_count": 4,
   "metadata": {},
   "outputs": [
    {
     "ename": "FileNotFoundError",
     "evalue": "[Errno 2] No such file or directory: 'heloo.txt'",
     "output_type": "error",
     "traceback": [
      "\u001b[1;31m---------------------------------------------------------------------------\u001b[0m",
      "\u001b[1;31mFileNotFoundError\u001b[0m                         Traceback (most recent call last)",
      "\u001b[1;32m<ipython-input-4-b8a728b9eba1>\u001b[0m in \u001b[0;36m<module>\u001b[1;34m\u001b[0m\n\u001b[1;32m----> 1\u001b[1;33m \u001b[1;32mwith\u001b[0m \u001b[0mopen\u001b[0m\u001b[1;33m(\u001b[0m\u001b[1;34m'heloo.txt'\u001b[0m\u001b[1;33m,\u001b[0m\u001b[1;34m'r'\u001b[0m\u001b[1;33m)\u001b[0m \u001b[1;32mas\u001b[0m \u001b[0mf\u001b[0m\u001b[1;33m:\u001b[0m\u001b[1;33m\u001b[0m\u001b[1;33m\u001b[0m\u001b[0m\n\u001b[0m\u001b[0;32m      2\u001b[0m     \u001b[0ma\u001b[0m\u001b[1;33m=\u001b[0m\u001b[0mf\u001b[0m\u001b[1;33m.\u001b[0m\u001b[0mread\u001b[0m\u001b[1;33m(\u001b[0m\u001b[1;33m)\u001b[0m\u001b[1;33m\u001b[0m\u001b[1;33m\u001b[0m\u001b[0m\n",
      "\u001b[1;31mFileNotFoundError\u001b[0m: [Errno 2] No such file or directory: 'heloo.txt'"
     ]
    }
   ],
   "source": [
    "with open('.txt','r') as f:\n",
    "    a=f.readlines()"
   ]
  },
  {
   "cell_type": "code",
   "execution_count": 1,
   "metadata": {},
   "outputs": [
    {
     "ename": "FileNotFoundError",
     "evalue": "[Errno 2] No such file or directory: 'tables/multipication_table_of_2'",
     "output_type": "error",
     "traceback": [
      "\u001b[1;31m---------------------------------------------------------------------------\u001b[0m",
      "\u001b[1;31mFileNotFoundError\u001b[0m                         Traceback (most recent call last)",
      "\u001b[1;32m<ipython-input-1-fa635c1ee36c>\u001b[0m in \u001b[0;36m<module>\u001b[1;34m\u001b[0m\n\u001b[0;32m      1\u001b[0m \u001b[1;32mfor\u001b[0m \u001b[0mi\u001b[0m \u001b[1;32min\u001b[0m \u001b[0mrange\u001b[0m\u001b[1;33m(\u001b[0m\u001b[1;36m2\u001b[0m\u001b[1;33m,\u001b[0m\u001b[1;36m21\u001b[0m\u001b[1;33m)\u001b[0m\u001b[1;33m:\u001b[0m\u001b[1;33m\u001b[0m\u001b[1;33m\u001b[0m\u001b[0m\n\u001b[1;32m----> 2\u001b[1;33m     \u001b[1;32mwith\u001b[0m \u001b[0mopen\u001b[0m\u001b[1;33m(\u001b[0m\u001b[1;34mf'tables/multipication_table_of_{i}'\u001b[0m\u001b[1;33m,\u001b[0m\u001b[1;34m'w'\u001b[0m\u001b[1;33m)\u001b[0m \u001b[1;32mas\u001b[0m \u001b[0mf\u001b[0m\u001b[1;33m:\u001b[0m\u001b[1;33m\u001b[0m\u001b[1;33m\u001b[0m\u001b[0m\n\u001b[0m\u001b[0;32m      3\u001b[0m         \u001b[1;32mfor\u001b[0m \u001b[0mj\u001b[0m \u001b[1;32min\u001b[0m \u001b[0mrange\u001b[0m\u001b[1;33m(\u001b[0m\u001b[1;36m1\u001b[0m\u001b[1;33m,\u001b[0m\u001b[1;36m11\u001b[0m\u001b[1;33m)\u001b[0m\u001b[1;33m:\u001b[0m\u001b[1;33m\u001b[0m\u001b[1;33m\u001b[0m\u001b[0m\n\u001b[0;32m      4\u001b[0m             \u001b[0mf\u001b[0m\u001b[1;33m.\u001b[0m\u001b[0mwrite\u001b[0m\u001b[1;33m(\u001b[0m\u001b[1;34mf'{i}*{j}={i*j}\\n'\u001b[0m\u001b[1;33m)\u001b[0m\u001b[1;33m\u001b[0m\u001b[1;33m\u001b[0m\u001b[0m\n\u001b[0;32m      5\u001b[0m \u001b[1;33m\u001b[0m\u001b[0m\n",
      "\u001b[1;31mFileNotFoundError\u001b[0m: [Errno 2] No such file or directory: 'tables/multipication_table_of_2'"
     ]
    }
   ],
   "source": [
    "for i in range(2,21):\n",
    "    with open(f'tables/multipication_table_of_{i}','w') as f:\n",
    "        for j in range(1,11):\n",
    "            f.write(f'{i}*{j}={i*j}\\n')\n",
    "            \n"
   ]
  },
  {
   "cell_type": "code",
   "execution_count": 2,
   "metadata": {},
   "outputs": [],
   "source": [
    "import os"
   ]
  },
  {
   "cell_type": "code",
   "execution_count": 3,
   "metadata": {
    "scrolled": true
   },
   "outputs": [
    {
     "name": "stdout",
     "output_type": "stream",
     "text": [
      "23468\n"
     ]
    }
   ],
   "source": [
    "class Number:\n",
    "    def sum(self):\n",
    "        return self.a + self.b\n",
    "    \n",
    "num = Number()\n",
    "num.a = 12\n",
    "num.b =23456\n",
    "s= num.sum()\n",
    "print(s)"
   ]
  },
  {
   "cell_type": "code",
   "execution_count": 2,
   "metadata": {},
   "outputs": [
    {
     "name": "stdout",
     "output_type": "stream",
     "text": [
      "5\n",
      "4\n",
      "3\n",
      "2\n",
      "1\n",
      "0\n"
     ]
    }
   ],
   "source": [
    "\n",
    "i=5\n",
    "while i>=0:\n",
    "   print(i)\n",
    "   i=i-1"
   ]
  },
  {
   "cell_type": "code",
   "execution_count": 3,
   "metadata": {},
   "outputs": [
    {
     "name": "stdout",
     "output_type": "stream",
     "text": [
      "23468\n"
     ]
    }
   ],
   "source": [
    "class Number:\n",
    "    def sum(self):\n",
    "        return self.a + self.b\n",
    "    \n",
    "num = Number()\n",
    "num.a = 12\n",
    "num.b =23456\n",
    "s= num.sum()\n",
    "print(s)"
   ]
  },
  {
   "cell_type": "code",
   "execution_count": 1,
   "metadata": {},
   "outputs": [
    {
     "name": "stdout",
     "output_type": "stream",
     "text": [
      "Enter First Number : 20\n",
      "Enter Second Number : 30\n",
      "Enter Third Number : 40\n",
      "Ouput : 15\n"
     ]
    }
   ],
   "source": [
    "#Q1\n",
    "def userInput(n1, n2, n3):\n",
    "    mul_n1_n2 = n1 * n2\n",
    "    div_n3 = mul_n1_n2 // n3\n",
    "    final = f\"Ouput : {div_n3}\"\n",
    "    return final\n",
    "\n",
    "n1 = int(input(\"Enter First Number : \"))\n",
    "n2 = int(input(\"Enter Second Number : \"))\n",
    "n3 = int(input(\"Enter Third Number : \"))\n",
    "print(userInput(n1, n2, n3))\n"
   ]
  },
  {
   "cell_type": "code",
   "execution_count": 2,
   "metadata": {},
   "outputs": [
    {
     "name": "stdout",
     "output_type": "stream",
     "text": [
      "43\n",
      "Area Of Circle Is : 5805.86\n",
      "Circumference Of Circle Is : 270.04\n"
     ]
    }
   ],
   "source": [
    "#Q2\n",
    "def circleR(n):\n",
    "    circ = 2 * 3.14 * n\n",
    "    area = 3.14 * (n * n)\n",
    "    print(\"Area Of Circle Is : {:.2f}\".format(area))\n",
    "    print(\"Circumference Of Circle Is : {:.2f}\".format(circ))\n",
    "\n",
    "\n",
    "\n",
    "n = int(input())\n",
    "circleR(n)    \n"
   ]
  },
  {
   "cell_type": "code",
   "execution_count": 8,
   "metadata": {},
   "outputs": [
    {
     "name": "stdout",
     "output_type": "stream",
     "text": [
      "4\n",
      "True\n"
     ]
    }
   ],
   "source": [
    "#Q3\n",
    "def powN(n):\n",
    "    if(n == 1):\n",
    "        return True\n",
    "    elif(n % 2 != 0 or n == 0):\n",
    "        return False\n",
    "    return powN(n / 2)\n",
    "\n",
    "n = int(input())\n",
    "print(powN(n))"
   ]
  },
  {
   "cell_type": "code",
   "execution_count": 9,
   "metadata": {},
   "outputs": [
    {
     "name": "stdout",
     "output_type": "stream",
     "text": [
      "9\n",
      "True\n"
     ]
    }
   ],
   "source": [
    "#Q4\n",
    "def perfectSqrt(n):\n",
    "    x = n // 2\n",
    "    y = set([x])\n",
    "    while(x * x != n):\n",
    "        x = (x + (n // x)) // 2\n",
    "        if(x in y):\n",
    "            return False\n",
    "        y.add(x)\n",
    "    return True\n",
    "\n",
    "n = int(input())\n",
    "print(perfectSqrt(n))\n"
   ]
  },
  {
   "cell_type": "code",
   "execution_count": 7,
   "metadata": {},
   "outputs": [
    {
     "name": "stdout",
     "output_type": "stream",
     "text": [
      "5\n"
     ]
    }
   ],
   "source": [
    "#Q5\n",
    "def hashTable(array):\n",
    "    table = {}\n",
    "    for i in array:\n",
    "        if(i not in table):\n",
    "            table[i] = 1\n",
    "        else:\n",
    "            table[i] += 1\n",
    "    for i in table:\n",
    "        if(table[i] == 1):\n",
    "            return i\n",
    "    return []\n",
    "\n",
    "array = [5, 3, 4, 3, 4]\n",
    "print(hashTable(array))"
   ]
  },
  {
   "cell_type": "code",
   "execution_count": 12,
   "metadata": {},
   "outputs": [],
   "source": [
    "import pandas as pd\n",
    "\n"
   ]
  },
  {
   "cell_type": "code",
   "execution_count": 13,
   "metadata": {},
   "outputs": [],
   "source": [
    "import numpy as np"
   ]
  },
  {
   "cell_type": "code",
   "execution_count": 14,
   "metadata": {},
   "outputs": [],
   "source": [
    "import matplotlib as mp\n"
   ]
  },
  {
   "cell_type": "code",
   "execution_count": 4,
   "metadata": {},
   "outputs": [],
   "source": [
    "import os\n"
   ]
  },
  {
   "cell_type": "code",
   "execution_count": 5,
   "metadata": {},
   "outputs": [],
   "source": [
    "import os"
   ]
  },
  {
   "cell_type": "code",
   "execution_count": 6,
   "metadata": {},
   "outputs": [],
   "source": [
    "import os"
   ]
  },
  {
   "cell_type": "code",
   "execution_count": 7,
   "metadata": {},
   "outputs": [],
   "source": [
    "import os"
   ]
  },
  {
   "cell_type": "code",
   "execution_count": 4,
   "metadata": {},
   "outputs": [],
   "source": [
    "while False:\n",
    " print(\"Hello\")"
   ]
  },
  {
   "cell_type": "code",
   "execution_count": 5,
   "metadata": {},
   "outputs": [
    {
     "name": "stdout",
     "output_type": "stream",
     "text": [
      "Hello\n"
     ]
    }
   ],
   "source": [
    "def display():\n",
    "    return \"Hello\"\n",
    "\n",
    "print(display())"
   ]
  },
  {
   "cell_type": "code",
   "execution_count": null,
   "metadata": {},
   "outputs": [],
   "source": []
  }
 ],
 "metadata": {
  "kernelspec": {
   "display_name": "Python 3",
   "language": "python",
   "name": "python3"
  },
  "language_info": {
   "codemirror_mode": {
    "name": "ipython",
    "version": 3
   },
   "file_extension": ".py",
   "mimetype": "text/x-python",
   "name": "python",
   "nbconvert_exporter": "python",
   "pygments_lexer": "ipython3",
   "version": "3.8.3"
  }
 },
 "nbformat": 4,
 "nbformat_minor": 4
}
